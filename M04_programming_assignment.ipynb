{
 "cells": [
  {
   "cell_type": "code",
   "execution_count": 2,
   "id": "a7381736",
   "metadata": {},
   "outputs": [],
   "source": [
    "# m04 - Programming Assignment: Modules and Databases 11.1 pt. 1\n",
    "# author: WJL\n",
    "# created: 2022-02-11\n",
    "# program defines a function \"hours\" that prints an output\n",
    "\n",
    "# Creating the function\n",
    "def hours():\n",
    "    print(\"Open 9-5 daily.\")"
   ]
  },
  {
   "cell_type": "code",
   "execution_count": 4,
   "id": "09095cf4",
   "metadata": {},
   "outputs": [
    {
     "name": "stdout",
     "output_type": "stream",
     "text": [
      "Open 9-5 daily\n"
     ]
    }
   ],
   "source": [
    "# m04 - Programming Assignment: Modules and Databases 11.1 pt. 2\n",
    "# author: WJL\n",
    "# created: 2022-02-11\n",
    "# program imports the \"zoo\" file and uses the pre-defined \"hours\" function to print the output\n",
    "\n",
    "# Importing the file\n",
    "import zoo\n",
    "\n",
    "# calling the \"hours\" function\n",
    "zoo.hours()"
   ]
  },
  {
   "cell_type": "code",
   "execution_count": 3,
   "id": "265e8171",
   "metadata": {},
   "outputs": [
    {
     "name": "stdout",
     "output_type": "stream",
     "text": [
      "Open 9-5 daily\n"
     ]
    }
   ],
   "source": [
    "# m04 - Programming Assignment: Modules and Databases 11.2\n",
    "# author: WJL\n",
    "# created: 2022-02-11\n",
    "# program imports the \"zoo\" file as \"menagerie\" and uses the pre-defined \"hours\" function to print the output\n",
    "\n",
    "# Import the file as menagerie\n",
    "import zoo as menagerie\n",
    "\n",
    "# calling the function\n",
    "menagerie.hours()"
   ]
  }
 ],
 "metadata": {
  "kernelspec": {
   "display_name": "Python 3 (ipykernel)",
   "language": "python",
   "name": "python3"
  },
  "language_info": {
   "codemirror_mode": {
    "name": "ipython",
    "version": 3
   },
   "file_extension": ".py",
   "mimetype": "text/x-python",
   "name": "python",
   "nbconvert_exporter": "python",
   "pygments_lexer": "ipython3",
   "version": "3.9.13"
  }
 },
 "nbformat": 4,
 "nbformat_minor": 5
}
